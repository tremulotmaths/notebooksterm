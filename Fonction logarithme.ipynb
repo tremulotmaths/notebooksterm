{
 "cells": [
  {
   "cell_type": "markdown",
   "metadata": {},
   "source": [
    "# Algorithme de Briggs pour déterminer une valeur approchée de $\\ln(x)$\n",
    "\n",
    "L'algorithme au programme concernant la fonction logarithme est l'algorithme de Briggs permettant le calcul approché du logarithme népérien d'un réel strictement positif.\n",
    "\n",
    "**Explication :**\n",
    "\n",
    "Soit $x$ un réel strictement positif.\n",
    "\n",
    "On construit la suite $(u_n)_{n\\in\\mathbb{N}}$ définie par $\\begin{cases}u_0=x\\\\u_{n+1}=\\sqrt{u_n}\\text{ pour tout }n\\in\\mathbb{N}\\end{cases}$.\n",
    "\n",
    "On pose, pour tout entier naturel $n$, $v_n=\\ln(u_n)$.\n",
    "\n",
    "On peut montrer que \n",
    "\n",
    "- $v_n=\\dfrac{1}{2^n}\\ln(u_0)=\\dfrac{1}{2^n}\\ln(x)$ pour tout entier naturel $n$.\n",
    "Autrement dit, $\\ln(x)=2^n\\times v_n$ pour tout entier naturel $n$.\n",
    "\n",
    "- $\\displaystyle\\lim_{n\\to +\\infty}v_n=0$, \n",
    "\n",
    "- et $\\displaystyle\\lim_{n\\to +\\infty}u_n=1$.\n",
    "\n",
    "Or, on sait que $\\displaystyle \\lim_{h\\to 0}\\dfrac{\\ln(1+h)-\\ln(1)}{h}=\\ln'(1)=\\dfrac{1}{1}=1$.\n",
    "\n",
    "Par conséquent, $\\displaystyle \\lim_{h\\to 0}\\dfrac{\\ln(1+h)}{h}=1$.\n",
    "\n",
    "En posant $h=u_n-1$, comme $\\displaystyle\\lim_{n\\to +\\infty}u_n=1$, on a $\\displaystyle\\lim_{n\\to +\\infty}h=0$.\n",
    "\n",
    "Par conséquent, $\\displaystyle \\lim_{n\\to +\\infty}\\dfrac{\\ln(u_n)}{u_n-1}=1$,\n",
    "c'est-à-dire $\\displaystyle \\lim_{n\\to +\\infty}\\dfrac{v_n}{u_n-1}=1$.\n",
    "\n",
    "Comme $\\displaystyle \\lim_{n\\to +\\infty}\\dfrac{2^n}{2^n}=1$, on en déduit :\n",
    "$\\displaystyle \\lim_{n\\to +\\infty}\\dfrac{2^n\\times v_n}{2^n\\times (u_n-1)}=1$\n",
    "\n",
    "Or $2^n\\times v_n=\\ln(x)$ pour tout entier naturel $n$.\n",
    "\n",
    "Ainsi $\\displaystyle \\lim_{n\\to +\\infty}\\dfrac{\\ln(x)}{2^n\\times (u_n-1)}=1$\n",
    "\n",
    "Autrement dit, $\\displaystyle \\lim_{n\\to +\\infty}2^n\\times (u_n-1)=\\ln(x)$.\n",
    "\n",
    "**Bilan**\n",
    "\n",
    "Pour obtenir une valeur approchée de $\\ln(x)$, il suffit de choisir $2^n\\times (u_n-1)$ pour $n$ assez grand."
   ]
  },
  {
   "cell_type": "code",
   "execution_count": null,
   "metadata": {},
   "outputs": [],
   "source": [
    "# import du module math complet\n",
    "from math import *\n",
    "\n",
    "def briggs(x, p):\n",
    "    \"\"\"\n",
    "        Paramètres :\n",
    "        - x (float) : nombre réel strictement positif dont on cherche une valeur approchée de ln(x)\n",
    "        - p (int) : précision : on s'arrête dès que |u-1|<=10^(-p)\n",
    "        Sortie :\n",
    "        Une approximation de ln(x)\n",
    "    \"\"\"\n",
    "    assert x > 0 # vérication que x est bien strictement positif\n",
    "    u = x\n",
    "    n = 0\n",
    "    while abs((u-1)>10**(-p)):\n",
    "        u = sqrt(u)\n",
    "        n += 1 # ou n = n + 1\n",
    "    return ((u - 1)*2**n, n)\n",
    "\n",
    "x = float(input(\"Quel est le réel dont vous souhaitez approcher le logarithme népérien ? \"))\n",
    "p = int(input(\"Quelle est la précision (au sens de l'algorithme de Briggs) choisie (donnez un entier) ? \"))\n",
    "(u, n) = briggs(x, p)\n",
    "print(\"Avec la fonction ln de Python, on a : ln({}) = {}.\".format(x, log(x)))\n",
    "print(\"L'approximation de ln({}) donnée par l'algorithme en {} étapes est {}.\".format(x, n, u))"
   ]
  }
 ],
 "metadata": {
  "kernelspec": {
   "display_name": "Python 3",
   "language": "python",
   "name": "python3"
  },
  "language_info": {
   "codemirror_mode": {
    "name": "ipython",
    "version": 3
   },
   "file_extension": ".py",
   "mimetype": "text/x-python",
   "name": "python",
   "nbconvert_exporter": "python",
   "pygments_lexer": "ipython3",
   "version": "3.7.4"
  }
 },
 "nbformat": 4,
 "nbformat_minor": 2
}
