{
 "cells": [
  {
   "cell_type": "markdown",
   "metadata": {},
   "source": [
    "# Python : application aux fonctions"
   ]
  },
  {
   "cell_type": "markdown",
   "metadata": {},
   "source": [
    "## 1. Tableau de valeurs d'une fonction\n",
    "\n",
    "On va définir une fonction Python permettant de donner un tableau de $n$ valeurs d'une fonction $f$ d'expression donnée entre deux bornes $a$ et $b$.\n",
    "\n",
    "L'utilisateur doit modifier, si besoin, l'expression de la fonction $f$ utilisée."
   ]
  },
  {
   "cell_type": "code",
   "execution_count": 6,
   "metadata": {},
   "outputs": [
    {
     "name": "stdout",
     "output_type": "stream",
     "text": [
      "['x', 0.0, 1.0, 2.0, 3.0, 4.0, 5.0, 6.0, 7.0, 8.0, 9.0, 10.0]\n",
      "['f(x)', -5.0, -2.0, 3.0, 10.0, 19.0, 30.0, 43.0, 58.0, 75.0, 94.0, 115.0]\n"
     ]
    }
   ],
   "source": [
    "#fonction numérique à modifier si besoin\n",
    "def f(x):\n",
    "    \"\"\"Expression de la fonction dont on cherche un tableau de valeurs.\n",
    "    À modifier si besoin.\"\"\"\n",
    "    return x**2+2*x-5\n",
    "\n",
    "# fonction Python donnant le tableau de valeurs\n",
    "def tableau(f, a, b, n):\n",
    "    \"\"\"Fonction qui prend en paramètres \n",
    "    - une fonction numérique : f\n",
    "    - la borne inférieure de l'intervalle : a\n",
    "    - la borne supérieure de l'intervalle : b\n",
    "    - le nombre de valeurs souhaité : n\n",
    "    Elle renvoie la liste des images par f des n réels régulièrement répartis entre a et b\"\"\"\n",
    "    antecedents = [a+k*(b-a)/(n-1) for k in range(n)] #liste des n réels régulièrement répartis entre a et b\n",
    "    print(['x'] + antecedents) # affiche la liste des antécédents\n",
    "    return ['f(x)'] + list(map(f, antecedents)) # renvoie la liste des images par f des nombres de la liste antecedents\n",
    "\n",
    "#Essai avec la fonction proposée\n",
    "\n",
    "print(tableau(f, 0, 10, 11))"
   ]
  },
  {
   "cell_type": "markdown",
   "metadata": {},
   "source": [
    "## 2. Courbe représentative d'une fonction\n",
    "\n",
    "Voici des exemples d'affichage de la courbe représentative d'une fonction numérique réelle.\n",
    "\n",
    "La bibliothèque `matplotlib` et son module `pyplot` sont conçus de manière à tracer des graphiques point\n",
    "par point de façon rapide... à condition de se plier à leur pratique.\n",
    "\n",
    "Soit à tracer la parabole d'équation $y=x^2$ sur l'intervalle $[-2;2]$, avec un pas de 0.001 : quatre milliers de\n",
    "points suffisent à faire une étude comparative de vitesse de tracé, à l'aide de la bibliothèque `time`.\n",
    "\n",
    "Pour pouvoir tracer des courbes de fonctions mathématiques nous allons donc charger le module `pyplot` de la bibliothèque `matplotlib`.\n",
    "\n",
    "Comme c'est un peu long, on peut modifier le nom avec l'instruction \n",
    "`import matplotlib.pyplot as plt`.\n",
    "\n",
    "\n",
    "L'instruction `plot` de `matplotlib.pyplot` est optimisée pour tracer des graphiques utilisant des listes. \n",
    "\n",
    "Il faut raisonner en termes de \"tableau de valeurs\" :\n",
    "\n",
    "1. X et Y sont deux listes de même longueur : par exemple `[1,2,3]` et `[1,4,9]`.\n",
    "\n",
    "2. `plt.plot(X,Y,\".b\")` trace l'ensemble des points $(X[i] ,Y[i])$ : (1,1), (2,4) et (3,9).\n",
    "\n",
    "L'essentiel du programme consiste donc à alimenter les deux listes X et Y, à l'aide de la **méthode** `append`."
   ]
  },
  {
   "cell_type": "code",
   "execution_count": 11,
   "metadata": {},
   "outputs": [
    {
     "data": {
      "image/png": "[encoded data removed]",
      "text/plain": [
       "<Figure size 432x288 with 1 Axes>"
      ]
     },
     "metadata": {
      "needs_background": "light"
     },
     "output_type": "display_data"
    },
    {
     "data": {
      "text/plain": [
       "'Temps : 0.1482409780001035 s.'"
      ]
     },
     "execution_count": 11,
     "metadata": {},
     "output_type": "execute_result"
    }
   ],
   "source": [
    "import matplotlib.pyplot as plt\n",
    "\n",
    "def courbe(f, a, b):\n",
    "    \"\"\"Fonction prenant en paramètres \n",
    "    - une fonction numérique f\n",
    "    - la borne inférieure de l'intervalle : a (un entier)\n",
    "    - la borne supérieure de l'intervalle : b (un entier)\n",
    "    Elle affiche la courbe représentative de f sur l'intervalle [a;b]\n",
    "    mais ne renvoie rien.\"\"\"\n",
    "    X = []\n",
    "    Y = []\n",
    "    for k in range(a,b+1) :\n",
    "        X.append(k)\n",
    "        Y.append(f(k))\n",
    "    plt.plot(X,Y,\"b-\")#trace la courbe en bleu, les points étant reliés\n",
    "    plt.show()\n",
    "\n",
    "\n",
    "def courbe_pas(f, a, b, pas):\n",
    "    \"\"\"Fonction prenant en paramètres \n",
    "    - une fonction numérique f\n",
    "    - la borne inférieure de l'intervalle : a\n",
    "    - la borne supérieure de l'intervalle : b\n",
    "    - un pas choisi entre les différents points à calculer : pas\n",
    "    Elle affiche la courbe représentative de f sur l'intervalle [a;b]\n",
    "    mais ne renvoie rien.\"\"\"\n",
    "    X = []\n",
    "    Y = []\n",
    "    while a <= b :\n",
    "        X.append(a)\n",
    "        Y.append(f(a))\n",
    "        a = a + pas\n",
    "    plt.plot(X,Y,\"g-\")#trace la courbe en vert, les points étant reliés\n",
    "    plt.show()\n",
    "\n",
    "\n",
    "import time #pour calculer le temps d'exécution du programme\n",
    "\n",
    "def trace_courbe_fct(f, a, b, pas):\n",
    "    \"\"\"Fonction prenant en paramètres \n",
    "    - une fonction numérique f\n",
    "    - la borne inférieure de l'intervalle : a\n",
    "    - la borne supérieure de l'intervalle : b\n",
    "    - un pas choisi entre les différents points à calculer : pas\n",
    "    Elle affiche la courbe représentative de f sur l'intervalle [a;b]\n",
    "    et renvoie le temps d'exécution de l'algorithme.\"\"\"\n",
    "    depart = time.perf_counter()\n",
    "    X = [] # Initialisation des listes\n",
    "    Y = []\n",
    "    while a<=b:\n",
    "        X.append(a) # Ajout des valeurs\n",
    "        Y.append(f(a)) # au \"bout\" de X et Y\n",
    "        a = a+pas\n",
    "    # Trace de l'ensemble du tableau de valeurs\n",
    "    plt.plot(X,Y,\"r.\")#trace la courbe en rouge, les points n'étant pas reliés\n",
    "    plt.show()\n",
    "    fin = time.perf_counter()\n",
    "    return \"Temps : \" + str(fin-depart) + \" s.\"\n",
    "\n",
    "# Essai avec une fonction numérique\n",
    "\n",
    "def f(x): # Expression à modifier si besoin\n",
    "    return x**2\n",
    "\n",
    "trace_courbe_fct(f, -5, 5, 0.1)"
   ]
  },
  {
   "cell_type": "markdown",
   "metadata": {},
   "source": [
    "**Remarque 1 :**\n",
    "\n",
    "Voici quelques options disponibles :\n",
    "\n",
    "1. Placer un point de coordonnées $(x; y)$, en bleu, gros : \n",
    "`plt.plot(x,y,\"bo\")`\n",
    "\n",
    "2. Tracer un segment entre deux points A et B, rouge :\n",
    "`plt.plot([xA,xB],[yA,yB],\"r\")`\n",
    "\n",
    "3. Tracer les points dont les coordonnées sont données par les listes `X_liste` et `Y_liste`, en noir, en reliant les points :\n",
    "`plt.plot(X_liste,Y_liste,\"k-\")`\n",
    "\n",
    "4. Pour avoir un repère orthonormé :\n",
    "`plt.axis(\"equal\")`\n",
    "\n",
    "5. Pour une grille :\n",
    "`plt.grid()`\n",
    "\n",
    "6. Afficher la fenêtre graphique :\n",
    "`plt.show()`\n",
    "\n",
    "7. Couleurs et style :\n",
    "\n",
    "|Code|Résultat|Code|Résultat|\n",
    "|:---:|:---:|:---:|:---:|\n",
    "|b|bleu|-|ligne continue|\n",
    "|g| vert| _ |tirets|\n",
    "|r| rouge| : |pointillés|\n",
    "|c| cyan| . |points|\n",
    "|m| magenta| o |billes|\n",
    "|y| jaune| x |croix|\n",
    "|k|noir| v |triangles|\n",
    "|w|blanc|-. |point-tirets|"
   ]
  },
  {
   "cell_type": "markdown",
   "metadata": {},
   "source": [
    "**Remarque 2 :**\n",
    "\n",
    "Pour certaines fonctions numériques, la bibliothèque `numpy` peut être utile, notamment pour les fonctions trigonométriques."
   ]
  },
  {
   "cell_type": "code",
   "execution_count": 12,
   "metadata": {},
   "outputs": [
    {
     "data": {
      "image/png": "[encoded data removed]",
      "text/plain": [
       "<Figure size 432x288 with 1 Axes>"
      ]
     },
     "metadata": {
      "needs_background": "light"
     },
     "output_type": "display_data"
    }
   ],
   "source": [
    "import numpy as np\n",
    "import matplotlib.pyplot as plt\n",
    "\n",
    "x = np.linspace(0, 2*np.pi, 100) #intervalle [0;2pi] découpé en 100 morceaux\n",
    "y = np.cos(x)\n",
    "plt.plot(x, y)\n",
    "\n",
    "plt.show() # affiche la figure a l'ecran"
   ]
  },
  {
   "cell_type": "markdown",
   "metadata": {},
   "source": [
    "**Remarque 3 :**\n",
    "\n",
    "Pour plus de détails sur l'utilisation des bibliothèques `matplotlib` ou `numpy`, voici des liens vers les documentations officielles :\n",
    "\n",
    "1. [`matplotlib`](https://matplotlib.org/)\n",
    "\n",
    "2. [`numpy`](https://numpy.org/)\n",
    "\n"
   ]
  }
 ],
 "metadata": {
  "kernelspec": {
   "display_name": "Python 3",
   "language": "python",
   "name": "python3"
  },
  "language_info": {
   "codemirror_mode": {
    "name": "ipython",
    "version": 3
   },
   "file_extension": ".py",
   "mimetype": "text/x-python",
   "name": "python",
   "nbconvert_exporter": "python",
   "pygments_lexer": "ipython3",
   "version": "3.7.4"
  }
 },
 "nbformat": 4,
 "nbformat_minor": 2
}
