{
 "cells": [
  {
   "cell_type": "markdown",
   "metadata": {},
   "source": [
    "# 1. Simulation de la planche de Galton"
   ]
  },
  {
   "cell_type": "markdown",
   "metadata": {},
   "source": [
    "## 1.1. Une simulation avec Geogebra\n",
    "\n",
    "Voici une excellente simulation de la planche de Galton réalisée par Daniel Mentrard avec Geogebra :\n",
    "\n",
    "[Vous pouvez jouer !](http://dmentrard.free.fr/GEOGEBRA/Maths/export4.25/Galton.html)"
   ]
  },
  {
   "cell_type": "markdown",
   "metadata": {},
   "source": [
    "## 1.2. Première approche avec Python\n",
    "\n",
    "On considère une planche de Galton de $n$ étages. \n",
    "\n",
    "Un jeton qui tombe le long de cette planche peut être simuler par $n$ épreuves de Bernoulli dont les issues équiprobables sont :\n",
    "\n",
    "- \"0\" si jeton va à gauche\n",
    "- \"1\" si le jeton va à droite\n",
    "\n",
    "Si on repère les positions possibles du jeton par un nombre entier en partant de la droite, la positon finale du jeton correspond à la somme des valeurs des épreuves. Le script suivant permet d’effectuer cette simulation :"
   ]
  },
  {
   "cell_type": "code",
   "execution_count": 10,
   "metadata": {},
   "outputs": [
    {
     "data": {
      "image/png": "[encoded data removed]",
      "text/plain": [
       "<Figure size 432x288 with 1 Axes>"
      ]
     },
     "metadata": {
      "needs_background": "light"
     },
     "output_type": "display_data"
    }
   ],
   "source": [
    "import random\n",
    "\n",
    "import matplotlib.pyplot as plt\n",
    "     \n",
    "def chute(n): #n est le nombre de lignes de la planche\n",
    "    t = 0\n",
    "    for k in range(n):\n",
    "        t = t + random.randint(0,1)\n",
    "    return t\n",
    "     \n",
    "def simule_planche(n_lignes, n_billes):\n",
    "    resultats = [0 for k in range(n_lignes+1)]\n",
    "    for k in range(n_billes):\n",
    "        c = chute(n_lignes)\n",
    "        resultats[c] = resultats[c] + 1\n",
    "        plt.bar(range(n_lignes+1),resultats)\n",
    "    plt.show()\n",
    "        \n",
    "simule_planche(30, 100)"
   ]
  },
  {
   "cell_type": "markdown",
   "metadata": {},
   "source": [
    "## 1.3. Deuxième approche avec Python"
   ]
  },
  {
   "cell_type": "code",
   "execution_count": 17,
   "metadata": {
    "scrolled": true
   },
   "outputs": [
    {
     "data": {
      "image/png": "[encoded data removed]",
      "text/plain": [
       "<Figure size 432x288 with 1 Axes>"
      ]
     },
     "metadata": {
      "needs_background": "light"
     },
     "output_type": "display_data"
    }
   ],
   "source": [
    "from matplotlib import pyplot \n",
    "from random import random\n",
    "\n",
    "def Galton(n_lignes, n_billes):\n",
    "    positions = []\n",
    "    for n in range(n_billes):\n",
    "        pos = 0\n",
    "        for l in range(n_lignes):\n",
    "            r = random()\n",
    "            if r > 0.5:\n",
    "                pos += 1 # la bille va a droite\n",
    "            else: \n",
    "                pos -= 1 # sinon a gauche\n",
    "        positions.append(pos)\n",
    "    pyplot.hist(positions,range = (-n_lignes, n_lignes), bins = 2*n_lignes, color = 'blue',edgecolor = 'grey')\n",
    "    pyplot.xlabel(str(n_billes)+' billes lancées sur une planche avec '+str(n_lignes)+' lignes de clous.')\n",
    "    pyplot.ylabel('Effectifs')\n",
    "    pyplot.title('Planche de Galton')\n",
    "\n",
    "Galton(15, 1000)"
   ]
  },
  {
   "cell_type": "markdown",
   "metadata": {},
   "source": [
    "# 2. Calculs avec une loi binomiale"
   ]
  },
  {
   "cell_type": "markdown",
   "metadata": {},
   "source": [
    "## 2.1. Calculs de probabilités\n",
    "\n",
    "On va créer plusieurs fonctions permettant de calculer $P(X=k)$ pour X suivant la loi binomiale de paramètres $n$ et $p$.\n",
    "\n",
    "On calculera ensuite $P(X<k)$, $P(k\\leq X\\leq k')$."
   ]
  },
  {
   "cell_type": "code",
   "execution_count": 1,
   "metadata": {},
   "outputs": [
    {
     "name": "stdout",
     "output_type": "stream",
     "text": [
      "0.890625\n"
     ]
    }
   ],
   "source": [
    "# Définition de factorielle\n",
    "def factorielle(n):\n",
    "    if n in [0, 1]:\n",
    "        return 1\n",
    "    else:\n",
    "        return n*factorielle(n-1)\n",
    "\n",
    "#Une autre définition n'utilisant pas d'algorithme récursif\n",
    "def factorielle2(n):\n",
    "    if n == 0 or n == 1:\n",
    "        return 1\n",
    "    else:\n",
    "        P = 1\n",
    "        for k in range(2,n+1):\n",
    "            P *= k\n",
    "        return P\n",
    "\n",
    "# Définition du coefficient binomial binom(n, k) : \"k parmi n\"\n",
    "def binom(n, k):\n",
    "    if n == 0 or k == 0 or k == n:\n",
    "        return 1\n",
    "    else:\n",
    "        return binom(n-1, k-1)+binom(n-1, k)\n",
    "    \n",
    "#Avec la formule contenant les factorielles\n",
    "def binom2(n, k):\n",
    "    return factorielle(n)/(factorielle(k)*factorielle(n-k))\n",
    "\n",
    "# Calcul de la probabilité P(X=k) pour X suivant la loi binomiale de paramètres n, p\n",
    "def proba_binom(n, p, k):\n",
    "    return binom2(n, k)*p**k*(1-p)**(n-k)\n",
    "\n",
    "# Calcul de P(k<=X<=k') pour X suivant la loi binomiale de paramètres n, p\n",
    "def proba_binom_intervalle(n, p, a, b):\n",
    "    result = 0\n",
    "    for i in range(a, b+1):\n",
    "        result += proba_binom(n, p, i)\n",
    "    return result\n",
    "    \n",
    "print(proba_binom_intervalle(10, 0.5, 3, 7))"
   ]
  },
  {
   "cell_type": "markdown",
   "metadata": {},
   "source": [
    "## 2.2. Inversion d'une loi binomiale\n",
    "\n",
    "On va maintenant chercher les bornes d'intervalle I pour lequel la probabilité que $P(X \\in I)$ soit inférieure à un réel $\\alpha$ donné (ou supérieure à $1-\\alpha$), avec X suivant la loi binomiale de paramètres $n$ et $p$.\n",
    "\n",
    "Dans le premier cas, on va chercher un intervalle I du type $=[0;k]$ tel que $P(X\\in I)\\leq \\alpha$.\n",
    "\n",
    "Autrement dit, on va chercher le plus grand entier $k$ tel que $P(X\\leq k')\\leq \\alpha$.\n",
    "\n",
    "Dans le deuxième cas, on va chercher un intervalle I du type $[0;k]$ tel que $P(X\\in I)\\geq 1-\\alpha$.\n",
    "\n",
    "Autrement dit, on va chercher le plus petit entier $k$ tel que $P(X\\leq k)\\geq 1-\\alpha$."
   ]
  },
  {
   "cell_type": "code",
   "execution_count": 2,
   "metadata": {},
   "outputs": [
    {
     "name": "stdout",
     "output_type": "stream",
     "text": [
      "[0, 6]\n",
      "[0, 7]\n"
     ]
    }
   ],
   "source": [
    "# Inversion proba inférieure à alpha\n",
    "def invBinom_inf(n, p, alpha):\n",
    "    k = 0\n",
    "    proba = proba_binom(n, p, 0)\n",
    "    if proba > alpha:\n",
    "        return \"Impossible\"\n",
    "    while proba <= alpha:\n",
    "        if k == n:\n",
    "            return [k, k]\n",
    "        else:\n",
    "            k += 1\n",
    "            proba += proba_binom(n, p, k)\n",
    "    borne_sup = k-1\n",
    "    return [0, borne_sup]\n",
    "\n",
    "print(invBinom_inf(10, 0.5, 0.9))\n",
    "\n",
    "# Inversion proba supérieure à 1-alpha\n",
    "def invBinom_sup(n, p, alpha):\n",
    "    k = 0\n",
    "    proba = proba_binom(n, p, 0)\n",
    "    if proba >= 1-alpha:\n",
    "        return [k, k]\n",
    "    while proba < 1-alpha:\n",
    "        if k == n:\n",
    "            return \"Impossible\"\n",
    "        else:\n",
    "            k += 1\n",
    "            proba += proba_binom(n, p, k)\n",
    "    return [0, k]\n",
    "\n",
    "print(invBinom_sup(10, 0.5, 0.1))\n",
    "    "
   ]
  },
  {
   "cell_type": "markdown",
   "metadata": {},
   "source": [
    "## 2.2. Problème de la surréservation"
   ]
  },
  {
   "cell_type": "markdown",
   "metadata": {},
   "source": [
    "### 2.2.1. Première approche\n",
    "\n",
    "Étant donné une variable aléatoire binomiale X et un réel strictement positif $\\alpha$, on cherche à déterminer le plus petit entier $k$ tel que $P(X > k) \\leq \\alpha$.\n",
    "\n",
    "**Exemple d'utilisation :**\n",
    "\n",
    "Une compagnie aérienne utilise pour ses vols long courrier des avions d'une capacité de 375 passagers.\n",
    "\n",
    "Sachant qu'en moyenne 10% des passagers se désistent ou ne se présentent pas, la compagnie voudrait savoir quel modèle d’avion affréter pour transporter ceux qui, parmi les 375 clients ayant réservé un billet, prendront réellement l’avion. \n",
    "\n",
    "Plus précisément, la compagnie accepte de prendre le risque d’avoir à rembourser certains billets, au seuil de 1 pourcent.\n",
    "\n",
    "**Remarque :**\n",
    "\n",
    "On peut se ramener à un algorithme qui ressemble au précédent, car \n",
    "$P(X > k) \\leq \\alpha$ équivaut à $1-P(X \\leq k) \\leq \\alpha$,\n",
    "soit $P(X\\leq k)\\geq 1-\\alpha$.\n",
    "\n",
    "On peut donc chercher le plus petit entier $k$ tel que $P(X\\leq k)\\geq 1-\\alpha$."
   ]
  },
  {
   "cell_type": "code",
   "execution_count": 5,
   "metadata": {},
   "outputs": [
    {
     "name": "stdout",
     "output_type": "stream",
     "text": [
      "281\n"
     ]
    }
   ],
   "source": [
    "# Problème de la surréservation\n",
    "# X suit la loi binomiale de paramètres n et p\n",
    "# On cherche le plus petit entier k tel que P(X>k)<=alpha où alpha est donné\n",
    "\n",
    "def surreservation(n, p, alpha):\n",
    "    k = n\n",
    "    proba = 0\n",
    "    while proba <= alpha:\n",
    "        proba += proba_binom(n, p, k)\n",
    "        k -= 1\n",
    "    return k+1\n",
    "\n",
    "print(surreservation(300, 0.9, 0.01))\n"
   ]
  },
  {
   "cell_type": "markdown",
   "metadata": {},
   "source": [
    "### 2.2.2. Deuxième approche\n",
    "\n",
    "Nous allons étudier cette approche sur un exemple.\n",
    "\n",
    "**Problème :**\n",
    "\n",
    "Une compagnie aérienne utilise pour ses vols long courrier des avions d'une capacité de $k=375$ passagers.\n",
    "\n",
    "Sachant qu'en moyenne 10% des passagers se désistent ou ne se présentent pas, combien de réservations supplémentaires la compagnie peut-elle prendre sur un tel vol pour que le nombre de passagers se présentant dépasse 375 soit un événement d'une probabilité inférieure à $\\alpha$ ?\n",
    "\n",
    "Si X est la variable aléatoire donnant le nombre de passagers se présentant.\n",
    "\n",
    "X suit la loi binomiale de paramètres $n$ et $p=0.9$.\n",
    "\n",
    "On cherche alors le plus grand entier $n$ tel que $P(X>375)\\leq \\alpha$.\n",
    "\n",
    "On prendra dans cet exemple $\\alpha=0.01$."
   ]
  },
  {
   "cell_type": "code",
   "execution_count": 8,
   "metadata": {},
   "outputs": [
    {
     "name": "stdout",
     "output_type": "stream",
     "text": [
      "320\n"
     ]
    }
   ],
   "source": [
    "def surreservation2(k, p, alpha):\n",
    "    n = k+1\n",
    "    proba = proba_binom_intervalle(n, p, k+1, n)\n",
    "    while proba <= alpha:\n",
    "        n += 1\n",
    "        proba = proba_binom_intervalle(n, p, k+1, n)\n",
    "    return n-1\n",
    "\n",
    "print(surreservation2(300, 0.9, 0.01))"
   ]
  }
 ],
 "metadata": {
  "kernelspec": {
   "display_name": "Python 3",
   "language": "python",
   "name": "python3"
  },
  "language_info": {
   "codemirror_mode": {
    "name": "ipython",
    "version": 3
   },
   "file_extension": ".py",
   "mimetype": "text/x-python",
   "name": "python",
   "nbconvert_exporter": "python",
   "pygments_lexer": "ipython3",
   "version": "3.7.4"
  }
 },
 "nbformat": 4,
 "nbformat_minor": 2
}
