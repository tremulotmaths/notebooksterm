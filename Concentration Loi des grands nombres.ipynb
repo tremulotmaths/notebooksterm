{
 "cells": [
  {
   "cell_type": "markdown",
   "id": "c159838c",
   "metadata": {},
   "source": [
    "# Calculer la probabilité de $(S_n-pn)>\\sqrt{n}$ où $S_n\\leadsto \\mathcal{B}(n, p)$ et comparer avec l'inégalité de Bienaymé-Tchebychev"
   ]
  },
  {
   "cell_type": "markdown",
   "id": "de5be5be",
   "metadata": {},
   "source": [
    "## Rappel sur l'inégalité de Bienaymé-Tchebychev\n",
    "\n",
    "**Inégalité de Bienaymé-Tchebychev**\n",
    "\n",
    "Soit $X$ une variable aléatoire réelle et $\\delta$ un réel.\n",
    "\n",
    "Alors $\\mathbb{P}\\left(\\vert X-E(X)\\vert\\geq \\delta\\right)\\leq \\dfrac{V(X)}{\\delta^2}$.\n",
    "\n",
    "*Remarques*\n",
    "\n",
    "Cette inégalité donne une majoration de la probabilité que l'écart entre $X$ et son espérance dépasse une certaine valeur réelle $\\delta$.\n",
    "\n",
    "Le "
   ]
  }
 ],
 "metadata": {
  "kernelspec": {
   "display_name": "Python 3",
   "language": "python",
   "name": "python3"
  },
  "language_info": {
   "codemirror_mode": {
    "name": "ipython",
    "version": 3
   },
   "file_extension": ".py",
   "mimetype": "text/x-python",
   "name": "python",
   "nbconvert_exporter": "python",
   "pygments_lexer": "ipython3",
   "version": "3.8.5"
  }
 },
 "nbformat": 4,
 "nbformat_minor": 5
}
