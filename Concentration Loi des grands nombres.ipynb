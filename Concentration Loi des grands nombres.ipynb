{
 "cells": [
  {
   "cell_type": "markdown",
   "id": "c159838c",
   "metadata": {},
   "source": [
    "# 1. Calculer la probabilité de $(S_n-pn)>\\sqrt{n}$ où $S_n\\leadsto \\mathcal{B}(n, p)$ et comparer avec l'inégalité de Bienaymé-Tchebychev"
   ]
  },
  {
   "cell_type": "markdown",
   "id": "de5be5be",
   "metadata": {},
   "source": [
    "## Rappel sur l'inégalité de Bienaymé-Tchebychev\n",
    "\n",
    "**Inégalité de Bienaymé-Tchebychev**\n",
    "\n",
    "Soit $X$ une variable aléatoire réelle et $\\delta$ un réel.\n",
    "\n",
    "Alors $\\mathbb{P}\\left(\\vert X-E(X)\\vert\\geq \\delta\\right)\\leq \\dfrac{V(X)}{\\delta^2}$.\n",
    "\n",
    "*Remarques*\n",
    "\n",
    "Cette inégalité donne une majoration de la probabilité que l'écart entre $X$ et son espérance dépasse une certaine valeur réelle $\\delta$.\n",
    "\n",
    "Ici on va utiliser l'inégalité de Bienaymé-Tchebichev avec $X=S_n$ ou $S_n\\leadsto \\mathcal{B}(n, p)$.\n",
    "\n",
    "On sait que $E(S_n)=np$ et $V(S_n)=np(1-p)$.\n",
    "\n",
    "On en déduit :\n",
    "\n",
    "$\\mathbb{P}\\left(\\vert S_n-np\\vert\\geq \\delta\\right)\\leq \\dfrac{np(1-p)}{\\delta^2}$ pour tout réel $\\delta$.\n",
    "\n",
    "En choisissant $\\delta=\\sqrt{n}$, on obtient :\n",
    "\n",
    "$\\mathbb{P}\\left(\\vert S_n-np\\vert\\geq \\sqrt{n}\\right)\\leq \\dfrac{np(1-p)}{n}$\n",
    "\n",
    "$\\mathbb{P}\\left(\\vert S_n-np\\vert\\geq \\sqrt{n}\\right)\\leq p(1-p)$\n",
    "\n",
    "On va donc calculer $\\mathbb{P}\\left(\\vert S_n-np\\vert\\geq \\sqrt{n}\\right)$ et comparer avec $p(1-p)$.\n",
    "\n",
    "**Rappel**\n",
    "\n",
    "Pour tout entier $k\\in[0,n]$, $\\mathbb{P}(S_n=k)=\\dbinom{n}{k}p^k(1-p)^{n-k}$.\n",
    "\n",
    "Il faut donc calculer $\\dbinom{n}{k}$ pour tout entier $k\\in[0,n]$.\n",
    "\n",
    "Nous allons utiliser une méthode vue en NSI."
   ]
  },
  {
   "cell_type": "code",
   "execution_count": 1,
   "id": "4ad922c4",
   "metadata": {},
   "outputs": [
    {
     "name": "stdout",
     "output_type": "stream",
     "text": [
      "Quelle valeur de n voulez-vous tester ?\n",
      "50\n",
      "Quelle valeur de p voulez-vous tester ?\n",
      "0.3\n",
      "P(|S_n-np|>sqrt(n)) donne 0.019540328780510655.\n",
      "p(1-p) donne 0.21.\n"
     ]
    }
   ],
   "source": [
    "from math import sqrt\n",
    "\n",
    "# L'idée est de remplir le triangle de Pascal en mémorisant les résultats au fur et à mesure\n",
    "# et en utilisant la formule de Pascal\n",
    "def coefbin(n, k):\n",
    "    T = [[0] * (n + 1) for _ in range(n + 1)] # tableau de taille (n+1)*(n+1) ne contenant que des 0\n",
    "    # les cases vides du triangle de Pascal seront donc ici des cases contenant 0\n",
    "    for i in range(n+1): # remplissage par ligne\n",
    "        for j in range(i + 1):\n",
    "            if j == 0:\n",
    "                T[i][j] = 1 # 1er nombre de la ligne\n",
    "            else:\n",
    "                T[i][j] = T[i - 1][j - 1] + T[i - 1][j]\n",
    "                    # fonctionne même lorsque j == i car T[i - 1][i] vaut 0\n",
    "    return T[n][k]\n",
    "\n",
    "def binomFdp(n, p, k):\n",
    "    return coefbin(n, k)*p**k*(1-p)**(n-k)\n",
    "\n",
    "# Pour calculer P(|S_n-np|>sqrt(n)), on va \n",
    "# ajouter les probabilités des événements (|k-np|>sqrt(n)) pour k entier entre 0 et n\n",
    "def BT(n, p):\n",
    "    return sum([binomFdp(n, p, k) for k in range(n+1) if abs(k-n*p)>sqrt(n)])\n",
    "\n",
    "# Valeurs à choisir\n",
    "n = int(input(\"Quelle valeur de n voulez-vous tester ?\\n\"))\n",
    "p = float(input(\"Quelle valeur de p voulez-vous tester ?\\n\"))\n",
    "print(f\"P(|S_n-np|>sqrt(n)) donne {BT(n, p)}.\")\n",
    "print(f\"p(1-p) donne {p*(1-p)}.\")"
   ]
  },
  {
   "cell_type": "markdown",
   "id": "b4cb99e6",
   "metadata": {},
   "source": [
    "L'inégalité est largement vérifiée. L'inégalité de BT est loin d'être optimale."
   ]
  },
  {
   "cell_type": "markdown",
   "id": "5a39826a",
   "metadata": {},
   "source": [
    "# 2. Simulation d'une marche aléatoire"
   ]
  },
  {
   "cell_type": "markdown",
   "id": "40c39db1",
   "metadata": {},
   "source": [
    "On simule avec le module Turtle une **marche aléatoire** de $n$ pas ayant une même probabilité d´être effectués vers l’avant ou vers l’arrière. \n",
    "\n",
    "Pour que l’on voit la progression de Turtle le pas est réglé à 20 pixels et l’on change de couleur à chaque pas.\n",
    "\n",
    "Dans graphe2, on simule $p$ déplacements de $n$ pas dans $360/p$ directions. \n",
    "\n",
    "Dans graphe3, on change d’orientation à chaque pas. \n",
    "\n",
    "Dans graphe4, on simule la marche aléatoire unidimensionnelle symétrique."
   ]
  },
  {
   "cell_type": "code",
   "execution_count": 35,
   "id": "b1c1712f",
   "metadata": {},
   "outputs": [
    {
     "name": "stdout",
     "output_type": "stream",
     "text": [
      "Quelle marche souhaitez-vous afficher ?\n",
      "2\n"
     ]
    }
   ],
   "source": [
    "from random import *\n",
    "from turtle import *\n",
    "def un_saut(x):\n",
    "    if random()<0.5:\n",
    "        return x-1\n",
    "    else:\n",
    "        return x+1\n",
    "def position(n):\n",
    "    pos=0\n",
    "    for i in range(n):\n",
    "        pos += un_saut(0)\n",
    "    return pos\n",
    "def graphe1(n):\n",
    "    colormode(255)\n",
    "    goto(0,0)\n",
    "    for i in range(n):\n",
    "        forward(un_saut(0)*20) #Pas de 20 pixels\n",
    "        color((randrange(0,256), randrange(0,256),randrange(0,256)))\n",
    "def graphe2(p,n):\n",
    "    for i in range(p):\n",
    "        goto(0,0)\n",
    "        setheading(0)\n",
    "        right(180*i/p)\n",
    "        graphe1(n)\n",
    "def graphe3(n):\n",
    "    reset()\n",
    "    goto(0,0)\n",
    "    for i in range(n):\n",
    "        forward(un_saut(0)*20)\n",
    "        right(90*(-1)**randrange(0,2))\n",
    "def graphe4(n):\n",
    "    reset()\n",
    "    goto(0,0)\n",
    "    setheading(0)\n",
    "    for i in range(n):\n",
    "        setheading(45*(-1)**randrange(0,2))\n",
    "        forward(20)\n",
    "\n",
    "# Choix de la marche\n",
    "num = int(input(\"Quelle marche souhaitez-vous afficher ?\\n\"))\n",
    "if num == 1:\n",
    "    graphe1(20)\n",
    "elif num == 2:\n",
    "    graphe2(20,20)\n",
    "elif num == 3:\n",
    "    graphe3(20)\n",
    "else:\n",
    "    graphe4(20)\n",
    "mainloop()"
   ]
  },
  {
   "cell_type": "markdown",
   "id": "fe038d99",
   "metadata": {},
   "source": [
    "# 3. Simuler N échantillons de taille $n$ d'une variable aléatoire d'espérance $\\mu$ et d'écart type $\\sigma$. Calculer l'écart type s de la série des moyennes des échantillons observés, à comparer à $\\dfrac{\\sigma}{\\sqrt{n}}$. Calculer la proportion des échantillons pour lesquels l'écart entre la moyenne et $\\mu$ est inférieur ou égal à $ks$, ou à $\\dfrac{k\\sigma}{\\sqrt{n}}$, pour $k = 1, 2, 3$."
   ]
  },
  {
   "cell_type": "markdown",
   "id": "8916dea3",
   "metadata": {},
   "source": [
    "Pour simuler N échantillons de taille $n$ d'une variable aléatoire d'espérance $\\mu$ et d'écart-type $\\sigma$, le choix fait ici est de considérer la loi normale (hors programme en Terminale) d'espérance $\\mu$ et d'écart-type $\\sigma$."
   ]
  },
  {
   "cell_type": "code",
   "execution_count": 37,
   "id": "619881aa",
   "metadata": {},
   "outputs": [],
   "source": [
    "from random import normalvariate # import de la loi normale N(mu, sigma)\n",
    "\n",
    "def simule_loi_normale(n, mu, sigma):\n",
    "    L = [] # liste qui va contenir l'échantillon de taille n\n",
    "    for k in range(n):\n",
    "        L.append(normalvariate(mu, sigma))\n",
    "    return L"
   ]
  },
  {
   "cell_type": "markdown",
   "id": "7a93fc52",
   "metadata": {},
   "source": [
    "On va maintenant programmer la série des moyennes de N échantillons de taille, puis en calculer l'écart-type $s$ et comparer avec $\\dfrac{\\sigma}{\\sqrt{n}}$."
   ]
  },
  {
   "cell_type": "code",
   "execution_count": 40,
   "id": "3a616e43",
   "metadata": {},
   "outputs": [
    {
     "name": "stdout",
     "output_type": "stream",
     "text": [
      "L'écart-type des 100 moyennes des échantillons de taille 50 de la loi normale N(10, 2) est : 0.2568042404745911.\n",
      "En comparaison, sigma/sqrt(n) vaut 0.282842712474619.\n"
     ]
    }
   ],
   "source": [
    "from math import sqrt\n",
    "\n",
    "def moyenne(L): # calcul de la moyenne d'une liste L\n",
    "    s = 0\n",
    "    for k in L:\n",
    "        s = s+k\n",
    "    return s/len(L)\n",
    "\n",
    "def ecart_type(L): # calcul de l'écart-type d'une liste L\n",
    "    somme_carres_ecarts = 0\n",
    "    m = moyenne(L)\n",
    "    for val in L:\n",
    "        somme_carres_ecarts = somme_carres_ecarts + (val - m)**2\n",
    "    return sqrt(somme_carres_ecarts / len(L))\n",
    "\n",
    "def serie_moyennes(N,n,mu,sigma):\n",
    "    S = []\n",
    "    for k in range(N):\n",
    "        L = simule_loi_normale(n,mu,sigma)\n",
    "        S.append(moyenne(L))\n",
    "    return S\n",
    "\n",
    "# Valeurs à modifier si besoin\n",
    "N = 100\n",
    "n = 50\n",
    "mu = 10\n",
    "sigma = 2\n",
    "print(f\"L'écart-type des {N} moyennes des échantillons de taille {n} de la loi normale N({mu}, {sigma}) est : {ecart_type(serie_moyennes(n, n, mu, sigma))}.\")\n",
    "print(f\"En comparaison, sigma/sqrt(n) vaut {sigma/sqrt(n)}.\")"
   ]
  },
  {
   "cell_type": "markdown",
   "id": "038229c8",
   "metadata": {},
   "source": [
    "On va maintenant programmer une fonction donnant la proportion des échantillons pour lesquels l'écart entre la moyenne et $\\mu$ est inférieur ou égal à $ks$ pour $k = 1, 2, 3$."
   ]
  },
  {
   "cell_type": "code",
   "execution_count": 41,
   "id": "94b0cb20",
   "metadata": {},
   "outputs": [
    {
     "name": "stdout",
     "output_type": "stream",
     "text": [
      "La proportion des échantillons parmi les 100 échantillons de taille 50 de la loi normale\n",
      "N(10, 2) pour lesquels l'écart entre la moyenne et mu est inférieur ou égal à ks pour k = 1\n",
      "est 0.65.\n"
     ]
    }
   ],
   "source": [
    "def prop_int_ks(N, n, mu, sigma, k):\n",
    "    e = 0\n",
    "    S = serie_moyennes(N, n, mu, sigma)\n",
    "    s = ecart_type(S)\n",
    "    for m in S:\n",
    "        if abs(m - mu) < k * s:\n",
    "            e = e + 1\n",
    "    return e / N\n",
    "\n",
    "# Valeurs à modifier si besoin\n",
    "N = 100\n",
    "n = 50\n",
    "mu = 10\n",
    "sigma = 2\n",
    "k = 1\n",
    "print(f\"\"\"La proportion des échantillons parmi les {N} échantillons de taille {n} de la loi normale\n",
    "N({mu}, {sigma}) pour lesquels l'écart entre la moyenne et mu est inférieur ou égal à ks pour k = {k}\n",
    "est {prop_int_ks(N, n, mu, sigma, k)}.\"\"\")"
   ]
  },
  {
   "cell_type": "markdown",
   "id": "a96a93c3",
   "metadata": {},
   "source": [
    "On va maintenant programmer une fonction donnant la proportion des échantillons pour lesquels l'écart entre la moyenne et $\\mu$ est inférieur ou égal à $k*\\sigma/\\sqrt{n}$ pour $k = 1, 2, 3$."
   ]
  },
  {
   "cell_type": "code",
   "execution_count": 42,
   "id": "066373b3",
   "metadata": {},
   "outputs": [
    {
     "name": "stdout",
     "output_type": "stream",
     "text": [
      "La proportion des échantillons parmi les 100 échantillons de taille 50 de la loi normale\n",
      "N(10, 2) pour lesquels l'écart entre la moyenne et mu est inférieur ou égal à k*sigma/sqrt(n) \n",
      "pour k = 1 est 0.71.\n"
     ]
    }
   ],
   "source": [
    "def prop_int_ksigma(N, n, mu, sigma, k):\n",
    "    e = 0\n",
    "    S = serie_moyennes(N,n,mu,sigma)\n",
    "    for m in S:\n",
    "        if abs(m - mu) < k * sigma / sqrt(n):\n",
    "            e = e + 1\n",
    "    return e / N\n",
    "# Valeurs à modifier si besoin\n",
    "N = 100\n",
    "n = 50\n",
    "mu = 10\n",
    "sigma = 2\n",
    "k = 1\n",
    "print(f\"\"\"La proportion des échantillons parmi les {N} échantillons de taille {n} de la loi normale\n",
    "N({mu}, {sigma}) pour lesquels l'écart entre la moyenne et mu est inférieur ou égal à k*sigma/sqrt(n) \n",
    "pour k = {k} est {prop_int_ksigma(N, n, mu, sigma, k)}.\"\"\")"
   ]
  }
 ],
 "metadata": {
  "kernelspec": {
   "display_name": "Python 3",
   "language": "python",
   "name": "python3"
  },
  "language_info": {
   "codemirror_mode": {
    "name": "ipython",
    "version": 3
   },
   "file_extension": ".py",
   "mimetype": "text/x-python",
   "name": "python",
   "nbconvert_exporter": "python",
   "pygments_lexer": "ipython3",
   "version": "3.8.5"
  }
 },
 "nbformat": 4,
 "nbformat_minor": 5
}
