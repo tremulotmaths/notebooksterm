{
 "cells": [
  {
   "cell_type": "markdown",
   "metadata": {},
   "source": [
    "# Calcul intégral"
   ]
  },
  {
   "cell_type": "markdown",
   "metadata": {},
   "source": [
    "## 1. Méthodes des rectangles, des milieux, des trapèzes\n",
    "\n",
    "On considère une fonction $f$ continue et positive sur un intervalle $[a;b]$.\n",
    "\n",
    "Si on ne sait pas déterminer une valeur de $\\displaystyle\\int_{a}^{b}f(x)\\,\\text{d}x$ avec les formules du cours, on peut utiliser plusieurs méthodes pour en obtenir une approximation.\n",
    "\n",
    "Dans les méthodes que nous allons voir dans cette partie, on découpe l'intervalle $[a;b]$ en $n$ intervalles de même amplitude, soit $\\dfrac{b-a}{n}$.\n",
    "\n",
    "La méthode des rectangles consistent à remplacer la fonction $f$ par une fonction constante sur chacun des $n$ intervalles précédents.\n",
    "\n",
    "On a plusieurs possibilités : on peut choisir de prendre comme \"hauteur\" du rectangle...\n",
    "\n",
    "- la valeur de la fonction au début de chaque intervalle,\n",
    "- la valeur de la fonction au milieu de chaque intervalle,\n",
    "- la valeur de la fonction à la fin de chaque intervalle.\n",
    "\n",
    "Le deux choix est alors appelé \"méthode des milieux\".\n",
    "\n",
    "On peut également remplacer, sur chacun des $n$ intervalles, la fonction $f$ par la fonction affine prenant les mêmes valeurs au début et à la fin des intervalles.\n",
    "On appelle ce choix \"méthode des trapèzes\".\n",
    "\n",
    "Calculer l'aire d'un rectangle ou d'un trapèze étant simple, on obtient ainsi facilement une approximation de $\\displaystyle\\int_{a}^{b}f(x)\\,\\text{d}x$ en ajoutant les aires des rectangles (ou trapèzes) ainsi formés."
   ]
  },
  {
   "cell_type": "code",
   "execution_count": 1,
   "metadata": {},
   "outputs": [
    {
     "name": "stdout",
     "output_type": "stream",
     "text": [
      "Avec la méthode des rectangles 'gauches', on obtient \n",
      "comme valeur approchée de l'intégrale de f entre 0 et 1 :\n",
      "1.1276722258634868.\n",
      "Avec la méthode des milieux, on obtient \n",
      "comme valeur approchée de l'intégrale de f entre 0 et 1 :\n",
      "1.147498882442424.\n",
      "Avec la méthode des rectangles 'droits', on obtient \n",
      "comme valeur approchée de l'intégrale de f entre 0 et 1 :\n",
      "1.1690935821007964.\n"
     ]
    }
   ],
   "source": [
    "# Fonction à modifier si nécessaire\n",
    "# Il s'agit de la fonction choisie en exemple dans le TP 1 p 254 du manuel\n",
    "from math import sqrt\n",
    "def f(x):\n",
    "    return sqrt(1+x**2)\n",
    "\n",
    "# Méthodes des rectangles (choix début intervalles)\n",
    "def rectangles_gauches(f, a, b, n):\n",
    "    S = 0 #La variable S va stocker la somme des \"aires\" des rectangles\n",
    "    for k in range(n):\n",
    "        largeur = (b - a) / n\n",
    "        debut = a + k * largeur\n",
    "        S = S + largeur * f(debut)\n",
    "    return S\n",
    "\n",
    "# Méthodes des rectangles (choix milieu intervalles) : méthode des milieux\n",
    "def rectangles_milieux(f, a, b, n):\n",
    "    S = 0 #La variable S va stocker la somme des \"aires\" des rectangles\n",
    "    for k in range(n):\n",
    "        largeur = (b - a) / n\n",
    "        milieu = a + (k + 1 / 2) * largeur\n",
    "        S = S + largeur * f(milieu)\n",
    "    return S\n",
    "\n",
    "# Méthodes des rectangles (choix début intervalles)\n",
    "def rectangles_droits(f, a, b, n):\n",
    "    S = 0 #La variable S va stocker la somme des \"aires\" des rectangles\n",
    "    for k in range(1, n+1):\n",
    "        largeur = (b - a) / n\n",
    "        fin = a + k * largeur\n",
    "        S = S + largeur * f(fin)\n",
    "    return S\n",
    "\n",
    "# Affichage des valeurs obtenues avec les trois méthodes pour la fonction f choisie\n",
    "# Découpage en 10 sous-intervalles de l'intervalle [0;1]\n",
    "print(\"\"\"Avec la méthode des rectangles 'gauches', on obtient \n",
    "comme valeur approchée de l'intégrale de f entre 0 et 1 :\n",
    "{}.\"\"\".format(rectangles_gauches(f, 0, 1, 10)))\n",
    "print(\"\"\"Avec la méthode des milieux, on obtient \n",
    "comme valeur approchée de l'intégrale de f entre 0 et 1 :\n",
    "{}.\"\"\".format(rectangles_milieux(f, 0, 1, 10)))\n",
    "print(\"\"\"Avec la méthode des rectangles 'droits', on obtient \n",
    "comme valeur approchée de l'intégrale de f entre 0 et 1 :\n",
    "{}.\"\"\".format(rectangles_droits(f, 0, 1, 10)))"
   ]
  },
  {
   "cell_type": "markdown",
   "metadata": {},
   "source": [
    "**Remarques :**\n",
    "\n",
    "1. Prenons le cas où la fonction $f$ est monotone sur l'intervalle $[a;b]$ et choisissons, par exemple, le cas où elle est croissante.\n",
    "\n",
    "Alors, choisir les rectangles dont les \"hauteurs\" sont les valeurs au début des intervalles, donne, en additionnat les aires, une valeur inférieure à la valeur de l'intégrale.\n",
    "\n",
    "Et choisir les rectangles dont les \"hauteurs\" sont les valeurs à la fin des intervalles, donne, en additionnat les aires, une valeur supérieure à la valeur de l'intégrale.\n",
    "\n",
    "On peut donc ainsi obtenir un encadrement de $\\displaystyle\\int_{a}^{b}f(x)\\,\\text{d}x$ en calculant ces deux approximations.\n",
    "\n",
    "2. Si la fonction $f$ n'est pas positive sur l'intervalle $[a;b]$ les méthodes prcédentes donnent tout de même des approximations de $\\displaystyle\\int_{a}^{b}f(x)\\,\\text{d}x$, même si celles-ci ne correspondent pas des aires."
   ]
  },
  {
   "cell_type": "markdown",
   "metadata": {},
   "source": [
    "## 2. Méthode Monte-Carlo\n",
    "\n",
    "On considère une fonction $f$ continue et positive sur un intervalle $[a;b]$.\n",
    "\n",
    "On choisit une valeur $M$ supérieure au maximum de $f$ sur l'intervalle $[a;b]$.\n",
    "\n",
    "On cherche à estimer l'aire \"sous la courbe de $f$\".\n",
    "\n",
    "La surface dont on cherche à estimer l'aire est donc comprise dans le rectangle délimité par l'axe des abscisses et les droites d'équation $x=a$, $x=b$ et $y=M$.\n",
    "\n",
    "![Image](montecarlo.png)\n",
    "\n",
    "La méthode Monte-Carlo consiste à \n",
    "\n",
    "- placer au hasard un grand nombre de points dans ce rectangle\n",
    "\n",
    "- calculer la proportion $p$ des points qui sont sous la courbe de $f$\n",
    "\n",
    "- prendre la proportion $p$ de l'aire du rectangle décrit précédemment ; c'est une approximation de l'aire cherchée."
   ]
  },
  {
   "cell_type": "code",
   "execution_count": 11,
   "metadata": {},
   "outputs": [
    {
     "name": "stdout",
     "output_type": "stream",
     "text": [
      "Voici une approximation de l'aire du quart du disque trigonométrique :\n",
      "0.79\n",
      "Voici une approximation de l'aire du quart du disque trigonométrique :\n",
      "3.1324\n"
     ]
    }
   ],
   "source": [
    "# import de la bibliothèque random pour choisir aléatoirement un réel\n",
    "from random import random\n",
    "from math import sqrt\n",
    "\n",
    "def monte_carlo(f, a, b, n, M):\n",
    "    N = 0 # nombre de points sous la courbe de f\n",
    "    for k in range(n):\n",
    "        x = a + (b - a) * random() # abscisse aléatoire entre a et b\n",
    "        y = M * random() # ordonnée aléatoire entre 0 et M\n",
    "        if y <= f(x):\n",
    "            N = N + 1\n",
    "    aire_rectangle = (b - a) * M\n",
    "    return aire_rectangle * N / n\n",
    "\n",
    "# Fonction correspondant au premier quadrant du cercle trigonométrique\n",
    "def f(x):\n",
    "    return sqrt(1 - x**2)\n",
    "\n",
    "# Calcul de l'aire sous la courbe qui doit correspondre à pi/4\n",
    "# On choisit a = 0, b = 1, M = 1 et n = 1000 points\n",
    "print(\"\"\"Voici une approximation de l'aire du quart du disque trigonométrique :\n",
    "{}\"\"\".format(monte_carlo(f, 0, 1, 10000, 1)))\n",
    "\n",
    "# En mulipliant par 4, on obtient une approximation de pi\n",
    "print(\"\"\"Voici une approximation de l'aire du quart du disque trigonométrique :\n",
    "{}\"\"\".format(4 * monte_carlo(f, 0, 1, 10000, 1)))"
   ]
  },
  {
   "cell_type": "markdown",
   "metadata": {},
   "source": [
    "## 3. Algorithme de Brouncker\n",
    "\n",
    "L'algorithme de Brouncker sert à donner une approximation de $\\ln(2)$.\n",
    "\n",
    "On remarque que $\\displaystyle\\int_{0}^{1}\\dfrac{1}{1+t}\\,\\text{d}t=\\left[\\ln(1+x)\\right]_{0}^{1}=\\ln(2)$.\n",
    "\n",
    "Lorsque $t\\neq 1$, on sait que $1+t+t^2+...+t^n=\\dfrac{1-t^{n+1}}{1-t}$.\n",
    "\n",
    "Ainsi, pour tout $t\\neq -1$, on obtient : $1+(-t)+(-t)^2+...+(-t)^n=\\dfrac{1-(-t)^{n+1}}{1+t}$.\n",
    "\n",
    "En choisissant $0<t<1$, on a $\\displaystyle \\lim_{n\\to +\\infty}(-t)^{n+1}=0$.\n",
    "\n",
    "Ainsi pour $n$ \"grand\", $1+(-t)+(-t)^2+...+(-t)^n\\approx \\dfrac{1}{1+t}$.\n",
    "\n",
    "On en déduit, par linéarité de l'intégrale :\n",
    "\n",
    "$\\displaystyle\\int_{0}^{1}\\dfrac{1}{1+t}\\,\\text{d}x\\approx \\int_{0}^{1}1\\,\\text{d}x+\\int_{0}^{1}(-t)\\,\\text{d}x+\\int_{0}^{1}(-t)^2\\,\\text{d}x+...+\\int_{0}^{1}(-t)^{n}\\,\\text{d}x$\n",
    "\n",
    "$\\displaystyle\\int_{0}^{1}\\dfrac{1}{1+t}\\,\\text{d}x\\approx \\left[t\\right]_{0}^{1}-\\left[\\dfrac{1}{2}t^2\\right]_{0}^{1}+\\left[\\dfrac{1}{3}t^3\\right]_{0}^{1}+...+(-1)^n\\left[\\dfrac{1}{n+1}t^{n+1}\\right]_{0}^{1}$\n",
    "\n",
    "$\\displaystyle\\int_{0}^{1}\\dfrac{1}{1+t}\\,\\text{d}x\\approx 1-\\dfrac{1}{2}+\\dfrac{1}{3}+...+\\dfrac{(-1)^n}{n+1}$\n",
    "\n",
    "Comme $\\displaystyle\\int_{0}^{1}\\dfrac{1}{1+t}\\,\\text{d}x=\\ln(2)$, on en déduit :\n",
    "\n",
    "$\\ln(2)\\approx 1-\\dfrac{1}{2}+\\dfrac{1}{3}+...+\\dfrac{(-1)^n}{n+1}$."
   ]
  },
  {
   "cell_type": "code",
   "execution_count": 16,
   "metadata": {},
   "outputs": [
    {
     "name": "stdout",
     "output_type": "stream",
     "text": [
      "Voici une approximation de ln(2) avec 1000 termes dans la somme :\n",
      "0.6926474305598223.\n",
      "En comparaison, voici la valeur donnée par Python :\n",
      "ln(2) = 0.6931471805599453\n"
     ]
    }
   ],
   "source": [
    "from math import log\n",
    "def brouncker(n):\n",
    "    S = 1\n",
    "    for k in range(1, n+1):\n",
    "        S = S + (-1)**k / (k + 1)\n",
    "    return S\n",
    "\n",
    "n = 999\n",
    "print(\"\"\"Voici une approximation de ln(2) avec {} termes dans la somme :\n",
    "{}.\n",
    "En comparaison, voici la valeur donnée par Python :\n",
    "ln(2) = {}\"\"\".format(n + 1, brouncker(n), log(2)))"
   ]
  }
 ],
 "metadata": {
  "kernelspec": {
   "display_name": "Python 3",
   "language": "python",
   "name": "python3"
  },
  "language_info": {
   "codemirror_mode": {
    "name": "ipython",
    "version": 3
   },
   "file_extension": ".py",
   "mimetype": "text/x-python",
   "name": "python",
   "nbconvert_exporter": "python",
   "pygments_lexer": "ipython3",
   "version": "3.8.5"
  }
 },
 "nbformat": 4,
 "nbformat_minor": 2
}
