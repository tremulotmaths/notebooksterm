{
 "cells": [
  {
   "cell_type": "markdown",
   "metadata": {},
   "source": [
    "# DM 8"
   ]
  },
  {
   "cell_type": "markdown",
   "metadata": {},
   "source": [
    "## Exercice 1\n",
    "\n",
    "Une petite aide...\n",
    "\n",
    "La loi de probabilité d'une variable aléatoire est souvent donnée sous la forme d'un tableau (ceci a été rappelé en classe et ne devrait donc pas être inconnu pour ceux qui ne sont pas perdus dans leurs rêves...)\n",
    "\n",
    "Dans la première ligne, on trouve les valeurs possibles.\n",
    "\n",
    "Dans la deuxième ligne, on trouve les probabilités correspondantes.\n",
    "\n",
    "L'instruction Python `randint(a, b)` (nécessitant la module `random`) génère un entier aléatoire entre `a` et `b` inclus.\n",
    "\n",
    "Si vous voulez tester le code de l'exercice 1, le voici.\n",
    "\n",
    "Si vous le recopier, attention aux indentations à conserver."
   ]
  },
  {
   "cell_type": "code",
   "execution_count": null,
   "metadata": {},
   "outputs": [],
   "source": [
    "import random as rd\n",
    "\n",
    "def simu_X():\n",
    "    return rd.randint(-2, 2) + rd.randint(0, 2)"
   ]
  },
  {
   "cell_type": "markdown",
   "metadata": {},
   "source": [
    "## Exercice 2\n",
    "\n",
    "Voici le code de l'exercice 2."
   ]
  },
  {
   "cell_type": "code",
   "execution_count": null,
   "metadata": {},
   "outputs": [],
   "source": [
    "import random as rd\n",
    "def simu_X():\n",
    "    if rd.randint(1, 1000) <= 421:\n",
    "        return 1\n",
    "    return 0\n",
    "\n",
    "def simu_S():\n",
    "    s = 0\n",
    "    for exp in range(210):\n",
    "        s = s + simu_X()\n",
    "    return s\n",
    "\n",
    "def m(n):\n",
    "    acc = [simu_S() for sim in range(n)]\n",
    "    return sum(acc) / n"
   ]
  },
  {
   "cell_type": "markdown",
   "metadata": {},
   "source": [
    "## Exercice 3\n",
    "\n",
    "Voici le code de l'exercice 3."
   ]
  },
  {
   "cell_type": "code",
   "execution_count": null,
   "metadata": {},
   "outputs": [],
   "source": [
    "import random as rd\n",
    "def bern():\n",
    "    if rd.randint(1, 1000) <= ...:\n",
    "        return ...\n",
    "    return 0\n",
    "\n",
    "def bino():\n",
    "    s = 0\n",
    "    for exp in range(...):\n",
    "        s = ...\n",
    "    return ...\n",
    "\n",
    "def echant():\n",
    "    liste = ...\n",
    "    for simu in range(...):\n",
    "        liste.append(...)\n",
    "    return ..."
   ]
  }
 ],
 "metadata": {
  "kernelspec": {
   "display_name": "Python 3",
   "language": "python",
   "name": "python3"
  },
  "language_info": {
   "codemirror_mode": {
    "name": "ipython",
    "version": 3
   },
   "file_extension": ".py",
   "mimetype": "text/x-python",
   "name": "python",
   "nbconvert_exporter": "python",
   "pygments_lexer": "ipython3",
   "version": "3.8.5"
  }
 },
 "nbformat": 4,
 "nbformat_minor": 2
}
