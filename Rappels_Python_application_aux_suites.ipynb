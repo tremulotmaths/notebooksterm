{
 "cells": [
  {
   "cell_type": "markdown",
   "metadata": {},
   "source": [
    "# Rappels sur Python et applications aux suites"
   ]
  },
  {
   "cell_type": "markdown",
   "metadata": {},
   "source": [
    "## 1. Calcul de termes d'une suite"
   ]
  },
  {
   "cell_type": "markdown",
   "metadata": {},
   "source": [
    "**Définition de la fonction servant dans les exemples :**"
   ]
  },
  {
   "cell_type": "code",
   "execution_count": null,
   "metadata": {},
   "outputs": [],
   "source": [
    "#import du module math pour pouvoir utiliser la racine carrée\n",
    "from math import sqrt\n",
    "\n",
    "# Fonction servant pour les exemples ci-dessous\n",
    "# On peut évidemment modifier cette fonction\n",
    "def f(x):\n",
    "    return sqrt(x+1)"
   ]
  },
  {
   "cell_type": "markdown",
   "metadata": {},
   "source": [
    "### 1.1. Suite explicite"
   ]
  },
  {
   "cell_type": "markdown",
   "metadata": {},
   "source": [
    "**Exemple :**\n",
    "\n",
    "Écrire une fonction permettant de déterminer un terme quelconque de la suite $(u_n)$ définie sur $\\mathbb{N}$ par  :\n",
    "\n",
    "$$u_n=\\sqrt{n+1}$$"
   ]
  },
  {
   "cell_type": "code",
   "execution_count": null,
   "metadata": {},
   "outputs": [],
   "source": [
    "def u(n):\n",
    "    return f(n)\n",
    "\n",
    "print(u(10))"
   ]
  },
  {
   "cell_type": "markdown",
   "metadata": {},
   "source": [
    "**Écriture d'une boucle affichant les termes**\n",
    "\n",
    "Écrire une boucle permettant l'affichage du terme de rang 0 au terme de rang $n$."
   ]
  },
  {
   "cell_type": "code",
   "execution_count": null,
   "metadata": {},
   "outputs": [],
   "source": [
    "n = int(input(\"Jusqu'à quel terme souhaitez-vous aller ?\\n\")) #L'instruction \\n permet un saut de ligne \n",
    "# Elle signifie \"newline\"\n",
    "\n",
    "for i in range(n+1): #i allant de 0 à n (attention la borne n+1 est exclue)\n",
    "    print(\"u(\",i,\")=\",u(i))"
   ]
  },
  {
   "cell_type": "markdown",
   "metadata": {},
   "source": [
    "**Utilisation d'une liste affichant les termes**\n",
    "\n",
    "*Méthode 1*\n",
    "\n",
    "1. Demander le terme final souhaité\n",
    "2. Initialiser une liste contenant le terme $u_0$\n",
    "3. Compléter la liste en ajoutant au fur et à mesure les autres termes de la suite dans la liste\n",
    "4. Afficher la liste"
   ]
  },
  {
   "cell_type": "code",
   "execution_count": null,
   "metadata": {},
   "outputs": [],
   "source": [
    "n = int(input(\"Jusqu'à quel terme souhaitez-vous aller ?\\n\")) #L'instruction \\n permet un saut de ligne \n",
    "# Elle signifie \"newline\"\n",
    "\n",
    "Liste = [u(0)]\n",
    "for i in range(1,n+1):\n",
    "    Liste.append(u(i))\n",
    "\n",
    "print(Liste)"
   ]
  },
  {
   "cell_type": "markdown",
   "metadata": {},
   "source": [
    "**Utilisation d'une liste affichant les termes**\n",
    "\n",
    "*Méthode 2*\n",
    "\n",
    "1. Demander le terme final souhaité\n",
    "2. Créer une liste *en compréhension* contenant les termes de la suite"
   ]
  },
  {
   "cell_type": "code",
   "execution_count": null,
   "metadata": {},
   "outputs": [],
   "source": [
    "n = int(input(\"Jusqu'à quel terme souhaitez-vous aller ?\\n\")) #L'instruction \\n permet un saut de ligne \n",
    "# Elle signifie \"newline\"\n",
    "\n",
    "Liste = [u(i) for i in range(n+1)]\n",
    "\n",
    "print(Liste)"
   ]
  },
  {
   "cell_type": "markdown",
   "metadata": {},
   "source": [
    "## 1.2. Suites définies par récurrence"
   ]
  },
  {
   "cell_type": "markdown",
   "metadata": {},
   "source": [
    "**Exemple :**\n",
    "\n",
    "Écrire une fonction permettant de déterminer un terme quelconque de la suite $(v_n)$ définie sur $\\mathbb{N}$ par  :\n",
    "\n",
    "$$\\begin{cases}v_0=1\\\\v_{n+1}=f(v_n)\\text{ pour tout }n\\in\\mathbb{N}\\end{cases}$$"
   ]
  },
  {
   "cell_type": "code",
   "execution_count": null,
   "metadata": {},
   "outputs": [],
   "source": [
    "def v(n):\n",
    "    pass\n",
    "\n",
    "\n",
    "#print(v(10))\n",
    "\n",
    "# Une autre version pour les plus aguerris\n",
    "def v2(n):\n",
    "    return 1 if n == 0 else f(v2(n-1))\n",
    "\n",
    "print(v2(10))"
   ]
  },
  {
   "cell_type": "markdown",
   "metadata": {},
   "source": [
    "**Écriture d'une boucle affichant les termes**\n",
    "\n",
    "Écrire une boucle permettant l'affichage du terme de rang 0 au terme de rang $n$."
   ]
  },
  {
   "cell_type": "code",
   "execution_count": null,
   "metadata": {},
   "outputs": [],
   "source": [
    "n = int(input(\"Jusqu'à quel terme souhaitez-vous aller ?\\n\")) #L'instruction \\n permet un saut de ligne \n",
    "# Elle signifie \"newline\"\n",
    "\n",
    "pass"
   ]
  },
  {
   "cell_type": "markdown",
   "metadata": {},
   "source": [
    "**Utilisation d'une liste affichant les termes**\n",
    "\n",
    "*Méthode 1*\n",
    "\n",
    "1. Demander le terme final souhaité\n",
    "2. Initialiser une liste contenant le terme $v_0$\n",
    "3. Compléter la liste en ajoutant au fur et à mesure les autres termes de la suite dans la liste\n",
    "4. Afficher la liste"
   ]
  },
  {
   "cell_type": "code",
   "execution_count": null,
   "metadata": {},
   "outputs": [],
   "source": [
    "n = int(input(\"Jusqu'à quel terme souhaitez-vous aller ?\\n\")) #L'instruction \\n permet un saut de ligne \n",
    "# Elle signifie \"newline\"\n",
    "\n",
    "Liste = [v(0)]\n",
    "pass\n",
    "\n",
    "print(Liste)"
   ]
  },
  {
   "cell_type": "markdown",
   "metadata": {},
   "source": [
    "**Utilisation d'une liste affichant les termes**\n",
    "\n",
    "*Méthode 2*\n",
    "\n",
    "1. Demander le terme final souhaité\n",
    "2. Créer une liste *en compréhension* contenant les termes de la suite"
   ]
  },
  {
   "cell_type": "code",
   "execution_count": null,
   "metadata": {},
   "outputs": [],
   "source": [
    "n = int(input(\"Jusqu'à quel terme souhaitez-vous aller ?\\n\")) #L'instruction \\n permet un saut de ligne \n",
    "# Elle signifie \"newline\"\n",
    "\n",
    "pass"
   ]
  },
  {
   "cell_type": "markdown",
   "metadata": {},
   "source": [
    "# 2. Représentation graphique des termes d'une suite"
   ]
  },
  {
   "cell_type": "markdown",
   "metadata": {},
   "source": [
    "### 2.1. Suite explicite"
   ]
  },
  {
   "cell_type": "markdown",
   "metadata": {},
   "source": [
    "**Exemple :**\n",
    "\n",
    "Écrire une fonction permettant de placer sur un graphique les premiers termes de la suite $(u_n)$ définie sur $\\mathbb{N}$ par  :\n",
    "\n",
    "$$u_n=\\sqrt{n+1}$$"
   ]
  },
  {
   "cell_type": "code",
   "execution_count": null,
   "metadata": {},
   "outputs": [],
   "source": [
    "# import de la bibliothèque matplotlib.pyplot permettant l'obtention de graphiques\n",
    "from matplotlib.pyplot import *\n",
    "# import de la bibliothèque numpy pour le tracé des courbes de fonctions\n",
    "import numpy as np\n",
    "\n",
    "def trace(nombre_points):\n",
    "    x = np.linspace(0, nombre_points-1, 100)\n",
    "    y = np.sqrt(x+1) # tracé de la courbe de f\n",
    "    plot(x, y)\n",
    "    X = [i for i in range(n)] # liste des abscisses des points\n",
    "    Y = [u(i) for i in range(n)] # liste des ordonnées des points\n",
    "    plot(X, Y, 'ro')\n",
    "    \n",
    "    show()\n",
    "\n",
    "trace(10)"
   ]
  },
  {
   "cell_type": "markdown",
   "metadata": {},
   "source": [
    "### 2.2. Suite définie par récurrence"
   ]
  },
  {
   "cell_type": "markdown",
   "metadata": {},
   "source": [
    "**Exemple :**\n",
    "\n",
    "Écrire une fonction permettant de placer sur un graphique les premiers termes de la suite $(v_n)$ définie sur $\\mathbb{N}$ par  :\n",
    "\n",
    "$$\\begin{cases}v_0=1\\\\v_{n+1}=f(v_n)\\text{ pour tout }n\\in\\mathbb{N}\\end{cases}$$"
   ]
  },
  {
   "cell_type": "code",
   "execution_count": null,
   "metadata": {},
   "outputs": [],
   "source": [
    "# import de la bibliothèque matplotlib.pyplot permettant l'obtention de graphiques\n",
    "import matplotlib.pyplot as plt\n",
    "# import de la bibliothèque numpy pour le tracé des courbes de fonctions\n",
    "import numpy as np\n",
    "\n",
    "def trace(nombre_points):\n",
    "    x = np.linspace(0, 2, 50)\n",
    "    y = np.sqrt(x+1) # tracé de la courbe de f\n",
    "    plt.plot(x, y)\n",
    "    liste_valeurs = [v2(i) for i in range(nombre_points+1)]\n",
    "    for i in range(nombre_points):\n",
    "        plt.plot([liste_valeurs[i], liste_valeurs[i]], [0, liste_valeurs[i+1]], 'r:')\n",
    "        plt.plot([liste_valeurs[i], 0], [liste_valeurs[i+1],liste_valeurs[i+1]], 'r:')\n",
    "        plt.plot([0,liste_valeurs[i+1]], [liste_valeurs[i+1], liste_valeurs[i+1]], 'r:')\n",
    "    print(liste_valeurs)\n",
    "    show()\n",
    "\n",
    "trace(5)"
   ]
  }
 ],
 "metadata": {
  "kernelspec": {
   "display_name": "Python 3",
   "language": "python",
   "name": "python3"
  },
  "language_info": {
   "codemirror_mode": {
    "name": "ipython",
    "version": 3
   },
   "file_extension": ".py",
   "mimetype": "text/x-python",
   "name": "python",
   "nbconvert_exporter": "python",
   "pygments_lexer": "ipython3",
   "version": "3.7.4"
  }
 },
 "nbformat": 4,
 "nbformat_minor": 2
}
