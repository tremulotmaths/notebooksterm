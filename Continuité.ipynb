{
 "cells": [
  {
   "cell_type": "markdown",
   "metadata": {},
   "source": [
    "# Continuité"
   ]
  },
  {
   "cell_type": "markdown",
   "metadata": {},
   "source": [
    "Le programme prévoit de traiter trois algorithmes utilisant la continuité des fonctions : \n",
    "\n",
    "- la méthode de dichotomie\n",
    "\n",
    "- la méthode de Newton\n",
    "\n",
    "- la méthode de la sécante"
   ]
  },
  {
   "cell_type": "markdown",
   "metadata": {},
   "source": [
    "## 1. La méthode de dichotomie"
   ]
  },
  {
   "cell_type": "markdown",
   "metadata": {},
   "source": [
    "Une méthode dichotomique est une méthode algorithmique de recherche où à chaque étape on coupe l’intervalle de recherche en deux parties, le but étant de diminuer l’intervalle de recherche.\n",
    "\n",
    "On peut appliquer la méthode dichotomique à trois types de problèmes :\n",
    "\n",
    "- La recherche d’un nombre inconnu\n",
    "\n",
    "- La résolution d’une équation du type f(x) = 0\n",
    "\n",
    "- La recherche d'un extremum"
   ]
  },
  {
   "cell_type": "markdown",
   "metadata": {},
   "source": [
    "### 1.1 Exemple de recherche d'un nombre inconnu\n",
    "\n",
    "On peut programmer un jeu qui consiste à trouver un nombre entre 0 et 100 choisi aléatoirement par le programme.\n",
    "\n",
    "Le principe est le suivant :\n",
    "\n",
    "- L'ordinateur choisit un entier entre 0 et 100. Nommons $x$ cet entier\n",
    "\n",
    "- Avant de démarrer on sait donc que $x$ est compris entre $a=0$ et $b=100$\n",
    "\n",
    "- On coupe l'intervalle $[a;b]$ grâce à la valeur centrale (arrondie à l'entier inférieur ou égal). Nommons $m$ cette valeur centrale (c'est juste la partie entière de la moyenne de $a$ et $b$).\n",
    "\n",
    "-- Si $m<x$, on sait que $x\\in [m;b]$. On remplace donc l'intervalle $[a;b]$ par l'intervalle $[m;b]$. Autrement dit, il suffit de changer la valeur de la borne inférieure de l'intervalle\n",
    "\n",
    "-- Si $m\\geq x$, on sait que $x\\in [a;m]$. On remplace donc l'intervalle $[a;b]$ par l'intervalle $[a;m]$. Autrement dit, il suffit de changer la valeur de la borne supérieure de l'intervalle"
   ]
  },
  {
   "cell_type": "code",
   "execution_count": null,
   "metadata": {},
   "outputs": [],
   "source": [
    "# import du module random complet\n",
    "from random import *\n",
    "\n",
    "# L'objectif est de laisser lrodinateur choisir un entier au hasard entre 0 et 100\n",
    "# puis de programmer une recherche automatique de ce nombre en procédant par dichotomie\n",
    "# On compte le nombre de coups nécessaires pour trouver le nombre choisi par l'ordinateur\n",
    "\n",
    "def RechercheAuto():\n",
    "    # Choix aléatoire d'un nombre entier entre 0 et 100 par l'ordinateur\n",
    "    nb_inconnu = randint(0,100)\n",
    "    print(nb_inconnu)\n",
    "    # Bornes de l'intervalle auquel appartient le nombre inconnu\n",
    "    a = 0\n",
    "    b = 100\n",
    "    # initialisation du nombre de coups nécessaire pour trouver le nombre\n",
    "    nb_coups = 0\n",
    "    while b - a > 0: # Tant que l'amplitude de l'intervalle est strictement positive\n",
    "        nb_coups += 1 # ou nb_coups = nb_coups + 1\n",
    "        nb_propose = (a + b)//2 # on choisit la partie entière de la moyenne des deux bornes de l'intervalle\n",
    "        print(nb_propose)\n",
    "        if nb_propose < nb_inconnu: # si la valeur centrale est strictement inférieure au nombre inconnu\n",
    "            a = nb_propose # on remplace la borne inférieure de l'intervalle\n",
    "        elif nb_propose > nb_inconnu: # si la valeur centrale est strictement supérieure au nombre inconnu\n",
    "            b = nb_propose # on remplace la borne supérieure de l'intervalle\n",
    "        else:\n",
    "            return (nb_propose, nb_coups)\n",
    "\n",
    "nb_propose, nb_coups = RechercheAuto()\n",
    "print(\"La valeur inconnue était {} et elle a été trouvée en {} coups\".format(nb_propose, nb_coups))\n",
    "    \n",
    "# Autre façon d'écrire cela :\n",
    "#print(\"La valeur inconnue était \",nb_propose,\", et elle a été touvée en \",nb_coups,\" coups.\")"
   ]
  },
  {
   "cell_type": "markdown",
   "metadata": {},
   "source": [
    "### 1.2 Résolution d'une équation du type $f(x)=0$"
   ]
  },
  {
   "cell_type": "markdown",
   "metadata": {},
   "source": [
    "Il s'agit du même principe que dans l'exemple précédent.\n",
    "\n",
    "On est dans le cas d'une fonction $f$ **continue**, **strictement monotone** et s'annulant sur un intervalle $[a;b]$.\n",
    "\n",
    "On cherche un intervalle d'amplitude inférieure à une précision choisie par l'utilisateur contenant la solution de l'équation $f(x)=0$."
   ]
  },
  {
   "cell_type": "code",
   "execution_count": null,
   "metadata": {},
   "outputs": [],
   "source": [
    "# import du module math complet pour pouvoir changer l'expression de la fonction\n",
    "# et pouvoir utiliser les fonctions mathématiques usuelles\n",
    "from math import *\n",
    "\n",
    "def fonction(x):\n",
    "    return 2*sin(x)-x+1\n",
    "\n",
    "def dichotomie(f, a, b, p):\n",
    "    \"\"\"\n",
    "        Paramètres : \n",
    "        - f : une fonction mathématique, \n",
    "        - a (float) : borne inf de l'intervalle de départ,\n",
    "        - b (float) : borne sup de l'intervalle de départ, \n",
    "        - p (float) : précision souhaitée, cad amplitude de l'intervalle\n",
    "        Sortie : \n",
    "        (a, b) le premier intervalle contenant la solution et ayant une amplitude \n",
    "        inférieure ou égale à la précision p\n",
    "    \"\"\"\n",
    "    while b - a > p: # tant que l'intervalle connu a une amplitude trop grande.\n",
    "        c = (a + b)/2 # on prend le milieu de l'intervalle\n",
    "        if f(a) * f(c) > 0: # si f(a) et f(c) sont de même signe, alors la solution est entre c et b\n",
    "            a = c # on change la borne inf de l'intervalle\n",
    "        else:\n",
    "            b = c # on change la borne sup de l'intervalle\n",
    "    return (a, b)\n",
    "    \n",
    "print(\"Remplacer la fonction du programme par celle qui convient.\")\n",
    "a = float(input(\"Quelle est la borne inferieure de l intervalle ? \"))\n",
    "b = float(input(\"Quelle est la borne superieure de l intervalle ? \"))\n",
    "p = float(input(\"Quelle precision souhaitez vous ? \"))\n",
    "(alpha, beta) = dichotomie(fonction, a, b, p)\n",
    "print(\"La solution de l'équation f(x) = 0 est dans l'intervalle [{};{}]\".format(alpha, beta))"
   ]
  },
  {
   "cell_type": "markdown",
   "metadata": {},
   "source": [
    "### 1.3. Recherche d'un extremum d'une fonction par dichotomie\n",
    "\n",
    "La recherche d’un maximum pour une fonction donnée sur un intervalle $[a;b]$ où il y a un changement de variations et un seul.\n",
    "\n",
    "Imaginons que l'on cherche un **maximum**.\n",
    "\n",
    "Le principe de dichotomie se déroule de la manière suivante :\n",
    "\n",
    "On coupe l’intervalle de recherche en deux parties, suivant le milieu $m$ de l’intervalle. \n",
    "\n",
    "Puis on détermine le milieu de chacun des deux intervalles formés $m_1$ et $m_2$.\n",
    "\n",
    "On calcule les valeurs atteintes par $f$ au milieu de l’intervalle de recherche $f(m)$, et au milieu des deux demi-intervalles $f(m_1)$ et $f(m_2)$.\n",
    "\n",
    "Enfin, on compare $f(m_1)$ à $f(m)$ et $f(m_2)$ à $f(m)$ :\n",
    "\n",
    "- Si $f(m_1)>f(m)$ le maximum est dans l’intervalle $[a;m]$ qui a pour milieu $m_1$ ;\n",
    "\n",
    "- Si $f(m_2)>f(m)$ le maximum est dans l’intervalle $[m ; b]$ qui a pour milieu $m_2$ ;\n",
    "\n",
    "- si aucun des cas précédents ne se produit, le maximum est dans l’intervalle $[m_1 ; m_2]$ qui a pour milieu $m$.\n",
    "\n",
    "On recommence au début et on s’arrête lorsque la longueur de l’intervalle obtenu est inférieur à la précision choisie, l’approximation du nombre où le maximum est atteint sera donné par le centre du dernier intervalle obtenu.\n",
    "\n",
    "Pour la recherche d’un **minimum**, il faut juste adapter un peu l’algorithme :\n",
    "\n",
    "- Si $f(m_1)<f(m)$ le minimum est dans l’intervalle $[a ; m]$ qui a pour milieu $m_1$ ;\n",
    "\n",
    "- Si $f(m_2)<f(m)$ le minimum est dans l’intervalle $[m ; b]$ qui a pour milieu $m_2$ ;\n",
    "\n",
    "- si aucun des cas précédents ne se produit, le minimum est dans l’intervalle $[m_1 ; m_2]$ qui a pour milieu $m$."
   ]
  },
  {
   "cell_type": "code",
   "execution_count": null,
   "metadata": {},
   "outputs": [],
   "source": [
    "def extremum(f, a, b, epsilon, choix):\n",
    "    \"\"\"\n",
    "        Paramètres : \n",
    "        - f : une fonction mathématique définie avant\n",
    "        - a (float) : borne inf de l'intervalle de départ\n",
    "        - b (float) : borne sup de l'intervalle de départ\n",
    "        - epsilon (float) : précision souhaitée\n",
    "        - choix (str) : max ou min\n",
    "        Sortie :\n",
    "        (a+b)/2 (float) : milieu du dernier intervalle obtenu\n",
    "    \"\"\"\n",
    "    while b - a > epsilon:\n",
    "        m = (a + b) / 2\n",
    "        m1 = (a + m) / 2\n",
    "        m2 = (m + b) / 2\n",
    "        if choix == \"max\":\n",
    "            if f(m1) > f(m):\n",
    "                b = m\n",
    "            elif f(m2)>f(m):\n",
    "                a = m\n",
    "            else:\n",
    "                a = m1\n",
    "                b = m2\n",
    "        else:\n",
    "            if f(m1) < f(m):\n",
    "                b = m\n",
    "            elif f(m2) < f(m):\n",
    "                a = m\n",
    "            else:\n",
    "                a = m1\n",
    "                b = m2\n",
    "    return (a + b)/2\n",
    "\n",
    "print(\"Remplacer la fonction du programme par celle qui convient.\")\n",
    "a = float(input(\"Quelle est la borne inferieure de l intervalle ? \"))\n",
    "b = float(input(\"Quelle est la borne superieure de l intervalle ? \"))\n",
    "epsilon = float(input(\"Quelle precision souhaitez vous ? \"))\n",
    "choix = input(\"Voulez-vous chercher un minimum (min) ou un maximum (max) ? \")\n",
    "extr = extremum(fonction, a, b, epsilon, choix)\n",
    "print(\"Le {}imum de la fonction sur l'intervalle [{};{}] est atteint pour x environ égal à {}.\".format(choix, a, b, extr))"
   ]
  },
  {
   "cell_type": "markdown",
   "metadata": {},
   "source": [
    "## 2. La méthode Newton"
   ]
  },
  {
   "cell_type": "markdown",
   "metadata": {},
   "source": [
    "On cherche à nouveau à déterminer une solution d'une équation du type $f(x)=0$.\n",
    "\n",
    "On se place dans les mêmes conditions que lorsque l'on utilisait la méthode de dichotomie.\n",
    "\n",
    "Cette fois-ci, on va construire une suite $(x_n)$ convergeant vers la solution $\\alpha$ de l'équation $f(x)=0$.\n",
    "\n",
    "On initialise la suite avec une valeur $x_0$ de préférence proche de $\\alpha$.\n",
    "\n",
    "On va ensuite approximer $f(x)$ par $f'(x_0)(x-x_0)+f(x_0)$ au voisinage de $x_0$, c'est-à-dire remplacer $f(x)$ par l'expression de la fonction affine correspondant à la tangente à la courbe de $f$ au point d'abscisse $x_0$.\n",
    "\n",
    "Cette tangente coupe l'axe des abscisses au point de coordonnées $\\left(x_0+\\dfrac{f(x_0)}{f'(x_0)};0\\right)$.\n",
    "\n",
    "*Cela nécessite d'avoir $f'(x_0)\\neq 0$.*\n",
    "\n",
    "On choisit alors $x_1=x_0+\\dfrac{f(x_0)}{f'(x_0)}$.\n",
    "\n",
    "Si $x_0$ est suffisamment proche de $\\alpha$, $x_1$ sera plus proche de $\\alpha$.\n",
    "\n",
    "![Image](newton.png)\n",
    "\n",
    "On continue ainsi de suite en construisant la suite $(x_n)$ avec la relation de récurrence $x_{n+1}=x_n-\\dfrac{f(x_n)}{f'(x_n)}$."
   ]
  },
  {
   "cell_type": "code",
   "execution_count": null,
   "metadata": {},
   "outputs": [],
   "source": [
    "def fonction(x):\n",
    "    return 2*sin(x)-x+1\n",
    "\n",
    "def derivee(x):\n",
    "    return 2*cos(x)-1\n",
    "\n",
    "def newton(f, der, x0, epsilon):\n",
    "    \"\"\"\n",
    "        Paramètres :\n",
    "        - f : une fonction mathématique\n",
    "        - der : la fonction mathématique dérivée de la fonction f\n",
    "        - x0 (float) : une valeur approchée de la solution cherchée\n",
    "        - epsilon (float) : la précision attendue pour f(x0)\n",
    "        Sortie :\n",
    "        Une valeur approchée de la solution de l'équation f(x) = 0\n",
    "    \"\"\"\n",
    "    x = x0\n",
    "    while abs(f(x)) > epsilon:\n",
    "        x = x - f(x)/der(x)\n",
    "    return x\n",
    "\n",
    "print(\"Remplacer la fonction et sa dérivée du programme par celles qui conviennent.\")\n",
    "x0 = float(input(\"Quelle est la valeur approchée de solution que vous connaissez ? \"))\n",
    "epsilon = float(input(\"Quelle precision souhaitez vous ? \"))\n",
    "x = newton(fonction, derivee, x0, epsilon)\n",
    "print(\"La solution de l'équation f(x) = 0 est environ de {}\".format(x))"
   ]
  },
  {
   "cell_type": "markdown",
   "metadata": {},
   "source": [
    "## 3. Méthode de la sécante"
   ]
  },
  {
   "cell_type": "markdown",
   "metadata": {},
   "source": [
    "Si la dérivée de la fonction $f$ n'est pas connue ou calculable de façon simple, on peut remplacer $f'(x_n)$ par $\\dfrac{f(x_n)-f(x_{n-1})}{x_n-x_{n-1}}$, qui est le coefficient directeur de la **sécante** à la courbe de $f$ passant par les points de coordonnées $\\left(x_{n-1}; f(x_{n-1})\\right)$ et $\\left(x_n;f(x_n)\\right)$.\n",
    "\n",
    "On obtient alors la relation :\n",
    "\n",
    "$x_{n+1}=x_n-\\dfrac{x_n-x_{n-1}}{f(x_n)-f(x_{n-1})}\\times f(x_n)$,\n",
    "\n",
    "soit $x_{n+1}=\\dfrac{x_{n-1}f(x_n)-x_nf(x_{n-1})}{f(x_n)-f(x_{n-1})}$.\n",
    "\n",
    "Cela nécessite par contre de donner deux valeurs de départ $x_0$ et $x_1$.\n",
    "\n",
    "On appelle cette méthode, **méthode de la sécante**."
   ]
  },
  {
   "cell_type": "code",
   "execution_count": null,
   "metadata": {},
   "outputs": [],
   "source": [
    "def fonction(x):\n",
    "    return 2*sin(x)-x+1\n",
    "\n",
    "def secante(f, x0, x1, epsilon):\n",
    "    \"\"\"\n",
    "        Paramètres :\n",
    "        - f : une fonction mathématique\n",
    "        - x0 (float) : une valeur approchée de la solution cherchée\n",
    "        - x1 (float) : une valeur approchée de la solution cherchée\n",
    "        - epsilon (float) : la précision attendue pour la solution\n",
    "        Sortie :\n",
    "        Une valeur approchée de la solution de l'équation f(x) = 0\n",
    "    \"\"\"\n",
    "    a, b = x0, x1\n",
    "    while abs(b - a) > epsilon:\n",
    "        x = (a*f(b)-b*f(a))/(f(b)-f(a))\n",
    "        a, b = b, x\n",
    "    return (a + b)/2\n",
    "\n",
    "print(\"Remplacer la fonction du programme par celle qui convient.\")\n",
    "x0 = float(input(\"Quelle première valeur approchée de solution connaissez-vous ? \"))\n",
    "x1 = float(input(\"Quelle deuxième valeur approchée de solution connaissez-vous ? \"))\n",
    "epsilon = float(input(\"Quelle precision souhaitez vous ? \"))\n",
    "x = secante(fonction, x0, x1, epsilon)\n",
    "print(\"La solution de l'équation f(x) = 0 est environ de {}\".format(x))"
   ]
  }
 ],
 "metadata": {
  "kernelspec": {
   "display_name": "Python 3",
   "language": "python",
   "name": "python3"
  },
  "language_info": {
   "codemirror_mode": {
    "name": "ipython",
    "version": 3
   },
   "file_extension": ".py",
   "mimetype": "text/x-python",
   "name": "python",
   "nbconvert_exporter": "python",
   "pygments_lexer": "ipython3",
   "version": "3.7.4"
  }
 },
 "nbformat": 4,
 "nbformat_minor": 2
}
